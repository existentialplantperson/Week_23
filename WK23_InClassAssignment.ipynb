{
 "cells": [
  {
   "cell_type": "markdown",
   "id": "78232335",
   "metadata": {},
   "source": [
    "###### Week 23 In Class Assignment\n",
    "###### Angela Spencer - March 2, 2022"
   ]
  },
  {
   "cell_type": "markdown",
   "id": "1e3cc9cf",
   "metadata": {},
   "source": [
    "###### 1. Expand the flask app from class to add functions to create, update, and delete records.\n",
    "###### Use the mongodb documentation https://docs.mongodb.com/manual/reference/ . Create can use insert_one method, update can use update_one, and delete can use delete_one."
   ]
  },
  {
   "cell_type": "code",
   "execution_count": null,
   "id": "1149feb1",
   "metadata": {},
   "outputs": [],
   "source": []
  },
  {
   "cell_type": "markdown",
   "id": "c303c928",
   "metadata": {},
   "source": [
    "See app.py in pymongo_app file"
   ]
  },
  {
   "cell_type": "code",
   "execution_count": null,
   "id": "59bb3f17",
   "metadata": {},
   "outputs": [],
   "source": []
  },
  {
   "cell_type": "code",
   "execution_count": null,
   "id": "cda3c9f9",
   "metadata": {},
   "outputs": [],
   "source": []
  },
  {
   "cell_type": "code",
   "execution_count": null,
   "id": "e708a464",
   "metadata": {},
   "outputs": [],
   "source": []
  }
 ],
 "metadata": {
  "kernelspec": {
   "display_name": "Python 3 (ipykernel)",
   "language": "python",
   "name": "python3"
  },
  "language_info": {
   "codemirror_mode": {
    "name": "ipython",
    "version": 3
   },
   "file_extension": ".py",
   "mimetype": "text/x-python",
   "name": "python",
   "nbconvert_exporter": "python",
   "pygments_lexer": "ipython3",
   "version": "3.9.7"
  }
 },
 "nbformat": 4,
 "nbformat_minor": 5
}
